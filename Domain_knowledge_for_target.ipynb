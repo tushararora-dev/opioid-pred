{
 "cells": [
  {
   "cell_type": "markdown",
   "metadata": {},
   "source": [
    "### Risk Factor"
   ]
  },
  {
   "cell_type": "markdown",
   "metadata": {},
   "source": [
    "- Column: MedicationName\n",
    "['Hydrocodone' 'Hydromorphone' 'Oxymorphone' 'Tramadol' 'Codeine'\n",
    " 'Morphine' 'Buprenorphine' 'Oxycodone' 'Meperidine' 'Methadone'\n",
    " 'Fentanyl' 'Tapentadol']\n",
    "- Opioid Prescription is 1 to 17\n",
    "- Refill 0,1,2,3,4\n",
    "- Adherence : Moderate, Low, High\n",
    "- ClinicalNotes: Post-operative pain managed with Hydrocodone.,\n",
    "       Prescribed Oxymorphone for severe pain.,\n",
    "       Patient reports effective pain relief with Tapentadol.,\n",
    "       Using Tramadol for moderate pain management.,\n",
    "       Patient with previous substance abuse, now on Methadone treatment.,\n",
    "       Recovering from injury, prescribed Codeine.,\n",
    "       Experiencing severe pain from cancer, prescribed Morphine.,\n",
    "       History of depression, taking Oxycodone for post-surgery pain.,\n",
    "       Patient reports chronic back pain, prescribed Fentanyl patch.,\n",
    "       Meperidine prescribed for acute pain episodes.,\n",
    "       Chronic arthritis, using Hydromorphone for pain relief.,\n",
    "- Num or Hospitalized: 0,1,2,3,4\n",
    "- Average Dosage: 5 to 99\n",
    "- Specialty: 'Orthopedics', 'Pain Management', 'Oncology', 'Primary Care'\n",
    "- ChronicPainConditions': 'Fibromyalgia', 'Cancer Pain', 'Post-Surgery Pain',\n",
    "       'Chronic Back Pain', 'Arthritis'\n",
    "- 'MedicationClass': ['Opioid', 'Narcotic', 'Analgesic']"
   ]
  },
  {
   "cell_type": "markdown",
   "metadata": {},
   "source": [
    "##### Not Relevent\n",
    "- Gender, Race, Appointment time(PrescriptionDate), Subspecility, PatientID, AppointmentType, Zipcode, DurationOfPrescriptions, PainManagementTreatment"
   ]
  },
  {
   "cell_type": "markdown",
   "metadata": {},
   "source": [
    "- Risk Factor for MedicationsName: High-Risk Medications (e.g., Fentanyl, Methadone, Morphine)\n",
    "- Risk Factor for NumOpioidPrescriptions: Long Durations of Opioid Prescriptions (over 30 days)\n",
    "- Risk Factor for Refills: Frequent Refills (3 or more)\n",
    "- Risk Factor for Adherence : Low Adherence to Medication Guidelines\n",
    "- Risk Factor for Clinical Notes: Previous Substance Abuse Mentioned in Clinical Notes\n",
    "- Risk Factor for Dosage: Depend on Medication name and Frequency\n",
    "- Risk Factor for Specialty: High Risk: Pain Management, Moderate Risk: Orthopedics, Low Risk: Oncology, Primary Care\n",
    "- Risk Factor for ChronicPainConditions: High Risk: Chronic Back Pain, Fibromyalgia Moderate Risk: Arthritis, Low Risk: Cancer Pain, Post-Surgery Pain"
   ]
  },
  {
   "cell_type": "markdown",
   "metadata": {},
   "source": [
    "#### Now point is what kind of target variable look like binary, multiclass or regression(Probability Based)\n",
    "##### I think Binary is the bese"
   ]
  },
  {
   "cell_type": "markdown",
   "metadata": {},
   "source": []
  },
  {
   "cell_type": "code",
   "execution_count": 2,
   "metadata": {},
   "outputs": [
    {
     "ename": "DimensionError",
     "evalue": "Instance must have 1 or 2 dimensions! Not: 0",
     "output_type": "error",
     "traceback": [
      "\u001b[1;31m---------------------------------------------------------------------------\u001b[0m",
      "\u001b[1;31mDimensionError\u001b[0m                            Traceback (most recent call last)",
      "Cell \u001b[1;32mIn[2], line 16\u001b[0m\n\u001b[0;32m     13\u001b[0m explainer \u001b[38;5;241m=\u001b[39m shap\u001b[38;5;241m.\u001b[39mExplainer(model, X)\n\u001b[0;32m     15\u001b[0m \u001b[38;5;66;03m# Calculate SHAP values for a specific data point\u001b[39;00m\n\u001b[1;32m---> 16\u001b[0m shap_values \u001b[38;5;241m=\u001b[39m \u001b[43mexplainer\u001b[49m\u001b[43m(\u001b[49m\u001b[43mX\u001b[49m\u001b[43m[\u001b[49m\u001b[38;5;241;43m0\u001b[39;49m\u001b[43m]\u001b[49m\u001b[43m)\u001b[49m  \u001b[38;5;66;03m# Replace 0 with the index of the data point you want to explain\u001b[39;00m\n\u001b[0;32m     18\u001b[0m \u001b[38;5;66;03m# Display explanations (various plotting options available)\u001b[39;00m\n\u001b[0;32m     19\u001b[0m shap\u001b[38;5;241m.\u001b[39msummary_plot(shap_values, X)\n",
      "File \u001b[1;32mc:\\Users\\Danjin\\anaconda3\\envs\\python10\\lib\\site-packages\\shap\\explainers\\_explainer.py:266\u001b[0m, in \u001b[0;36mExplainer.__call__\u001b[1;34m(self, max_evals, main_effects, error_bounds, batch_size, outputs, silent, *args, **kwargs)\u001b[0m\n\u001b[0;32m    264\u001b[0m     feature_names \u001b[38;5;241m=\u001b[39m [[] \u001b[38;5;28;01mfor\u001b[39;00m _ \u001b[38;5;129;01min\u001b[39;00m \u001b[38;5;28mrange\u001b[39m(\u001b[38;5;28mlen\u001b[39m(args))]\n\u001b[0;32m    265\u001b[0m \u001b[38;5;28;01mfor\u001b[39;00m row_args \u001b[38;5;129;01min\u001b[39;00m show_progress(\u001b[38;5;28mzip\u001b[39m(\u001b[38;5;241m*\u001b[39margs), num_rows, \u001b[38;5;28mself\u001b[39m\u001b[38;5;241m.\u001b[39m\u001b[38;5;18m__class__\u001b[39m\u001b[38;5;241m.\u001b[39m\u001b[38;5;18m__name__\u001b[39m\u001b[38;5;241m+\u001b[39m\u001b[38;5;124m\"\u001b[39m\u001b[38;5;124m explainer\u001b[39m\u001b[38;5;124m\"\u001b[39m, silent):\n\u001b[1;32m--> 266\u001b[0m     row_result \u001b[38;5;241m=\u001b[39m \u001b[38;5;28mself\u001b[39m\u001b[38;5;241m.\u001b[39mexplain_row(\n\u001b[0;32m    267\u001b[0m         \u001b[38;5;241m*\u001b[39mrow_args, max_evals\u001b[38;5;241m=\u001b[39mmax_evals, main_effects\u001b[38;5;241m=\u001b[39mmain_effects, error_bounds\u001b[38;5;241m=\u001b[39merror_bounds,\n\u001b[0;32m    268\u001b[0m         batch_size\u001b[38;5;241m=\u001b[39mbatch_size, outputs\u001b[38;5;241m=\u001b[39moutputs, silent\u001b[38;5;241m=\u001b[39msilent, \u001b[38;5;241m*\u001b[39m\u001b[38;5;241m*\u001b[39mkwargs\n\u001b[0;32m    269\u001b[0m     )\n\u001b[0;32m    270\u001b[0m     values\u001b[38;5;241m.\u001b[39mappend(row_result\u001b[38;5;241m.\u001b[39mget(\u001b[38;5;124m\"\u001b[39m\u001b[38;5;124mvalues\u001b[39m\u001b[38;5;124m\"\u001b[39m, \u001b[38;5;28;01mNone\u001b[39;00m))\n\u001b[0;32m    271\u001b[0m     output_indices\u001b[38;5;241m.\u001b[39mappend(row_result\u001b[38;5;241m.\u001b[39mget(\u001b[38;5;124m\"\u001b[39m\u001b[38;5;124moutput_indices\u001b[39m\u001b[38;5;124m\"\u001b[39m, \u001b[38;5;28;01mNone\u001b[39;00m))\n",
      "File \u001b[1;32mc:\\Users\\Danjin\\anaconda3\\envs\\python10\\lib\\site-packages\\shap\\explainers\\_linear.py:328\u001b[0m, in \u001b[0;36mLinearExplainer.explain_row\u001b[1;34m(self, max_evals, main_effects, error_bounds, batch_size, outputs, silent, *row_args)\u001b[0m\n\u001b[0;32m    325\u001b[0m     X \u001b[38;5;241m=\u001b[39m X\u001b[38;5;241m.\u001b[39mvalues\n\u001b[0;32m    327\u001b[0m \u001b[38;5;28;01mif\u001b[39;00m \u001b[38;5;28mlen\u001b[39m(X\u001b[38;5;241m.\u001b[39mshape) \u001b[38;5;129;01mnot\u001b[39;00m \u001b[38;5;129;01min\u001b[39;00m (\u001b[38;5;241m1\u001b[39m, \u001b[38;5;241m2\u001b[39m):\n\u001b[1;32m--> 328\u001b[0m     \u001b[38;5;28;01mraise\u001b[39;00m DimensionError(\u001b[38;5;124mf\u001b[39m\u001b[38;5;124m\"\u001b[39m\u001b[38;5;124mInstance must have 1 or 2 dimensions! Not: \u001b[39m\u001b[38;5;132;01m{\u001b[39;00m\u001b[38;5;28mlen\u001b[39m(X\u001b[38;5;241m.\u001b[39mshape)\u001b[38;5;132;01m}\u001b[39;00m\u001b[38;5;124m\"\u001b[39m)\n\u001b[0;32m    330\u001b[0m \u001b[38;5;28;01mif\u001b[39;00m \u001b[38;5;28mself\u001b[39m\u001b[38;5;241m.\u001b[39mfeature_perturbation \u001b[38;5;241m==\u001b[39m \u001b[38;5;124m\"\u001b[39m\u001b[38;5;124mcorrelation_dependent\u001b[39m\u001b[38;5;124m\"\u001b[39m:\n\u001b[0;32m    331\u001b[0m     \u001b[38;5;28;01mif\u001b[39;00m issparse(X):\n",
      "\u001b[1;31mDimensionError\u001b[0m: Instance must have 1 or 2 dimensions! Not: 0"
     ]
    }
   ],
   "source": [
    "import shap\n",
    "import numpy as np\n",
    "\n",
    "# Sample data (replace with your actual data)\n",
    "X = np.array([[1, 2, 3], [4, 5, 6], [7, 8, 9]])\n",
    "y = np.array([10, 20, 30])\n",
    "\n",
    "# Train a simple model (replace with your actual model)\n",
    "from sklearn.linear_model import LinearRegression\n",
    "model = LinearRegression().fit(X, y)\n",
    "\n",
    "# Create SHAP explainer\n",
    "explainer = shap.Explainer(model, X)\n",
    "\n",
    "# Calculate SHAP values for a specific data point\n",
    "shap_values = explainer(X[0])  # Replace 0 with the index of the data point you want to explain\n",
    "\n",
    "# Display explanations (various plotting options available)\n",
    "shap.summary_plot(shap_values, X)"
   ]
  },
  {
   "cell_type": "code",
   "execution_count": null,
   "metadata": {},
   "outputs": [],
   "source": []
  }
 ],
 "metadata": {
  "kernelspec": {
   "display_name": "python10",
   "language": "python",
   "name": "python3"
  },
  "language_info": {
   "codemirror_mode": {
    "name": "ipython",
    "version": 3
   },
   "file_extension": ".py",
   "mimetype": "text/x-python",
   "name": "python",
   "nbconvert_exporter": "python",
   "pygments_lexer": "ipython3",
   "version": "3.10.14"
  }
 },
 "nbformat": 4,
 "nbformat_minor": 2
}
